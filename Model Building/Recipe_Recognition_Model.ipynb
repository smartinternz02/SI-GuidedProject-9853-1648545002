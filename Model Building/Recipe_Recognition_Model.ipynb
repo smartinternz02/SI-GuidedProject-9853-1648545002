{
 "cells": [
  {
   "cell_type": "markdown",
   "id": "8c44d837",
   "metadata": {},
   "source": [
    "# Image Preprocesing"
   ]
  },
  {
   "cell_type": "code",
   "execution_count": 24,
   "id": "5f336ca5",
   "metadata": {},
   "outputs": [],
   "source": [
    "from tensorflow.keras.preprocessing.image import ImageDataGenerator"
   ]
  },
  {
   "cell_type": "code",
   "execution_count": 25,
   "id": "9c8cb31a",
   "metadata": {},
   "outputs": [],
   "source": [
    "train_data = ImageDataGenerator(rescale=1/255,zoom_range=0.2,horizontal_flip=True,vertical_flip=False)"
   ]
  },
  {
   "cell_type": "code",
   "execution_count": 26,
   "id": "e0265113",
   "metadata": {},
   "outputs": [],
   "source": [
    "test_data = ImageDataGenerator(rescale=1/255)"
   ]
  },
  {
   "cell_type": "code",
   "execution_count": 27,
   "id": "ac7c0b38",
   "metadata": {},
   "outputs": [
    {
     "name": "stdout",
     "output_type": "stream",
     "text": [
      "Found 2418 images belonging to 3 classes.\n"
     ]
    }
   ],
   "source": [
    "x_train = train_data.flow_from_directory(r'E:\\Recipe_Recognition\\DataSet\\training_set',target_size=(64,64),class_mode='categorical',batch_size=100)"
   ]
  },
  {
   "cell_type": "code",
   "execution_count": 28,
   "id": "733e50a2",
   "metadata": {},
   "outputs": [
    {
     "data": {
      "text/plain": [
       "25"
      ]
     },
     "execution_count": 28,
     "metadata": {},
     "output_type": "execute_result"
    }
   ],
   "source": [
    "len(x_train)"
   ]
  },
  {
   "cell_type": "code",
   "execution_count": 29,
   "id": "4e1e0304",
   "metadata": {},
   "outputs": [
    {
     "name": "stdout",
     "output_type": "stream",
     "text": [
      "Found 600 images belonging to 3 classes.\n"
     ]
    }
   ],
   "source": [
    "x_test = test_data.flow_from_directory(r'E:\\Recipe_Recognition\\DataSet\\test_set',target_size=(64,64),class_mode='categorical',batch_size=100)"
   ]
  },
  {
   "cell_type": "code",
   "execution_count": 30,
   "id": "500baca0",
   "metadata": {},
   "outputs": [
    {
     "data": {
      "text/plain": [
       "{'french_fries': 0, 'pizza': 1, 'samosa': 2}"
      ]
     },
     "execution_count": 30,
     "metadata": {},
     "output_type": "execute_result"
    }
   ],
   "source": [
    "x_train.class_indices"
   ]
  },
  {
   "cell_type": "markdown",
   "id": "90bea6d6",
   "metadata": {},
   "source": [
    "# Model Building"
   ]
  },
  {
   "cell_type": "code",
   "execution_count": 31,
   "id": "7fca44e5",
   "metadata": {},
   "outputs": [],
   "source": [
    "from tensorflow.keras.models import Sequential\n",
    "from tensorflow.keras.layers import Convolution2D, MaxPooling2D, Flatten, Dense"
   ]
  },
  {
   "cell_type": "code",
   "execution_count": 32,
   "id": "243b12fb",
   "metadata": {},
   "outputs": [],
   "source": [
    "model = Sequential()"
   ]
  },
  {
   "cell_type": "code",
   "execution_count": 33,
   "id": "3603707d",
   "metadata": {},
   "outputs": [],
   "source": [
    "#Convulation Layer\n",
    "model.add(Convolution2D(32,(3,3),activation='relu',input_shape=(64,64,3)))"
   ]
  },
  {
   "cell_type": "code",
   "execution_count": 34,
   "id": "d0aab7af",
   "metadata": {},
   "outputs": [],
   "source": [
    "#Pooling Layer\n",
    "model.add(MaxPooling2D(pool_size=(2,2)))"
   ]
  },
  {
   "cell_type": "code",
   "execution_count": 35,
   "id": "84e0fed4",
   "metadata": {},
   "outputs": [],
   "source": [
    "#Flattening Layer\n",
    "model.add(Flatten())"
   ]
  },
  {
   "cell_type": "code",
   "execution_count": 36,
   "id": "113d6172",
   "metadata": {},
   "outputs": [],
   "source": [
    "#Hidden Layer1\n",
    "model.add(Dense(300,activation='relu'))"
   ]
  },
  {
   "cell_type": "code",
   "execution_count": 37,
   "id": "356019f8",
   "metadata": {},
   "outputs": [],
   "source": [
    "#Hidden Layer2\n",
    "model.add(Dense(300,activation='relu'))"
   ]
  },
  {
   "cell_type": "code",
   "execution_count": 38,
   "id": "934c3d95",
   "metadata": {},
   "outputs": [],
   "source": [
    "#Output Layer\n",
    "model.add(Dense(3,activation='softmax'))"
   ]
  },
  {
   "cell_type": "markdown",
   "id": "be502b11",
   "metadata": {},
   "source": [
    "# Configuring the model"
   ]
  },
  {
   "cell_type": "code",
   "execution_count": 39,
   "id": "8266fbf2",
   "metadata": {},
   "outputs": [],
   "source": [
    "model.compile(loss='categorical_crossentropy',optimizer='adam',metrics=['accuracy'])"
   ]
  },
  {
   "cell_type": "code",
   "execution_count": 40,
   "id": "aa961650",
   "metadata": {},
   "outputs": [
    {
     "name": "stderr",
     "output_type": "stream",
     "text": [
      "C:\\Users\\santh\\AppData\\Local\\Temp/ipykernel_25340/1273322431.py:2: UserWarning: `Model.fit_generator` is deprecated and will be removed in a future version. Please use `Model.fit`, which supports generators.\n",
      "  model.fit_generator(x_train,steps_per_epoch=len(x_train),epochs=9,validation_data=x_test,validation_steps=len(x_test))\n"
     ]
    },
    {
     "name": "stdout",
     "output_type": "stream",
     "text": [
      "Epoch 1/9\n",
      "25/25 [==============================] - 15s 608ms/step - loss: 2.4905 - accuracy: 0.3395 - val_loss: 1.0795 - val_accuracy: 0.3667\n",
      "Epoch 2/9\n",
      "25/25 [==============================] - 15s 589ms/step - loss: 1.0750 - accuracy: 0.4107 - val_loss: 1.0363 - val_accuracy: 0.5017\n",
      "Epoch 3/9\n",
      "25/25 [==============================] - 15s 606ms/step - loss: 1.0169 - accuracy: 0.4959 - val_loss: 0.9318 - val_accuracy: 0.5700\n",
      "Epoch 4/9\n",
      "25/25 [==============================] - 15s 594ms/step - loss: 0.9457 - accuracy: 0.5521 - val_loss: 0.9458 - val_accuracy: 0.5117\n",
      "Epoch 5/9\n",
      "25/25 [==============================] - 15s 589ms/step - loss: 0.8941 - accuracy: 0.5778 - val_loss: 0.8609 - val_accuracy: 0.5833\n",
      "Epoch 6/9\n",
      "25/25 [==============================] - 15s 594ms/step - loss: 0.8666 - accuracy: 0.6071 - val_loss: 0.8180 - val_accuracy: 0.6117\n",
      "Epoch 7/9\n",
      "25/25 [==============================] - 15s 588ms/step - loss: 0.8138 - accuracy: 0.6307 - val_loss: 0.7914 - val_accuracy: 0.6333\n",
      "Epoch 8/9\n",
      "25/25 [==============================] - 15s 592ms/step - loss: 0.7647 - accuracy: 0.6567 - val_loss: 0.7681 - val_accuracy: 0.6700\n",
      "Epoch 9/9\n",
      "25/25 [==============================] - 15s 600ms/step - loss: 0.7407 - accuracy: 0.6708 - val_loss: 0.7878 - val_accuracy: 0.6350\n"
     ]
    },
    {
     "data": {
      "text/plain": [
       "<keras.callbacks.History at 0x222d2068ee0>"
      ]
     },
     "execution_count": 40,
     "metadata": {},
     "output_type": "execute_result"
    }
   ],
   "source": [
    "#Training/ Fitting the model\n",
    "model.fit_generator(x_train,steps_per_epoch=len(x_train),epochs=10,validation_data=x_test,validation_steps=len(x_test))"
   ]
  },
  {
   "cell_type": "markdown",
   "id": "aeb9aaad",
   "metadata": {},
   "source": [
    "# Save the model"
   ]
  },
  {
   "cell_type": "code",
   "execution_count": 41,
   "id": "deac1694",
   "metadata": {},
   "outputs": [],
   "source": [
    "model.save('Recipe.h5')"
   ]
  }
 ],
 "metadata": {
  "kernelspec": {
   "display_name": "Python 3 (ipykernel)",
   "language": "python",
   "name": "python3"
  },
  "language_info": {
   "codemirror_mode": {
    "name": "ipython",
    "version": 3
   },
   "file_extension": ".py",
   "mimetype": "text/x-python",
   "name": "python",
   "nbconvert_exporter": "python",
   "pygments_lexer": "ipython3",
   "version": "3.9.7"
  }
 },
 "nbformat": 4,
 "nbformat_minor": 5
}
